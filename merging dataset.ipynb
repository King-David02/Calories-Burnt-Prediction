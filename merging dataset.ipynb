{
 "cells": [
  {
   "cell_type": "code",
   "execution_count": 4,
   "id": "cacd58ce-b38c-446b-ac8f-cfdd4283ab68",
   "metadata": {},
   "outputs": [
    {
     "name": "stdout",
     "output_type": "stream",
     "text": [
      "CSV files merged and second column moved to the end successfully!\n"
     ]
    }
   ],
   "source": [
    "import pandas as pd\n",
    "\n",
    "# Load both CSV files\n",
    "df1 = pd.read_csv('calories.csv')\n",
    "df2 = pd.read_csv('exercise.csv')\n",
    "\n",
    "# Merge them based on the first column (common column)\n",
    "merged_df = pd.merge(df1, df2, on=df1.columns[0])\n",
    "\n",
    "# Reorder columns: move the second column of df1 to the end\n",
    "columns = list(merged_df.columns)\n",
    "second_column = columns[1]  # This is the second column of df1\n",
    "columns.append(columns.pop(1))  # Move the second column to the end\n",
    "merged_df = merged_df[columns]\n",
    "\n",
    "# Save the merged data to a new CSV file named 'data.csv'\n",
    "merged_df.to_csv('data.csv', index=False)\n",
    "\n",
    "print(\"CSV files merged and second column moved to the end successfully!\")\n"
   ]
  },
  {
   "cell_type": "code",
   "execution_count": null,
   "id": "59a0dc6e-a1d3-436b-89fc-4eb8a6d5b847",
   "metadata": {},
   "outputs": [],
   "source": []
  }
 ],
 "metadata": {
  "kernelspec": {
   "display_name": "Python 3 (ipykernel)",
   "language": "python",
   "name": "python3"
  },
  "language_info": {
   "codemirror_mode": {
    "name": "ipython",
    "version": 3
   },
   "file_extension": ".py",
   "mimetype": "text/x-python",
   "name": "python",
   "nbconvert_exporter": "python",
   "pygments_lexer": "ipython3",
   "version": "3.12.4"
  }
 },
 "nbformat": 4,
 "nbformat_minor": 5
}
